{
 "cells": [
  {
   "cell_type": "markdown",
   "id": "aa90ccf9",
   "metadata": {},
   "source": [
    "# Titanic Survival prediction"
   ]
  },
  {
   "cell_type": "markdown",
   "id": "6268e62f",
   "metadata": {},
   "source": [
    "1. Data\n",
    "2. Data Pre-processing\n",
    "3. Data Analysis\n",
    "4. Train_Test_Split\n",
    "5. Logistic Regression Model\n",
    "6. Evaluation"
   ]
  },
  {
   "cell_type": "markdown",
   "id": "cfdb97c1",
   "metadata": {},
   "source": [
    "### Importing the libraries"
   ]
  },
  {
   "cell_type": "code",
   "execution_count": 2,
   "id": "b328feaf",
   "metadata": {},
   "outputs": [],
   "source": [
    "import numpy as np\n",
    "import pandas as pd\n",
    "import matplotlib.pyplot as plt\n",
    "import seaborn as sns\n",
    "\n",
    "from sklearn.model_selection import train_test_split\n",
    "from sklearn.linear_model import LogisticRegression"
   ]
  },
  {
   "cell_type": "markdown",
   "id": "0cea12eb",
   "metadata": {},
   "source": [
    "### Data Collection"
   ]
  },
  {
   "cell_type": "code",
   "execution_count": null,
   "id": "3e59ee5a",
   "metadata": {},
   "outputs": [],
   "source": []
  }
 ],
 "metadata": {
  "kernelspec": {
   "display_name": "Python 3 (ipykernel)",
   "language": "python",
   "name": "python3"
  },
  "language_info": {
   "codemirror_mode": {
    "name": "ipython",
    "version": 3
   },
   "file_extension": ".py",
   "mimetype": "text/x-python",
   "name": "python",
   "nbconvert_exporter": "python",
   "pygments_lexer": "ipython3",
   "version": "3.11.5"
  }
 },
 "nbformat": 4,
 "nbformat_minor": 5
}
